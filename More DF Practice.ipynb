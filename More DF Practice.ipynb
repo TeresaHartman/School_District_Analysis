{
 "cells": [
  {
   "cell_type": "code",
   "execution_count": 1,
   "id": "8b6c1c00",
   "metadata": {},
   "outputs": [],
   "source": [
    "import pandas as pd"
   ]
  },
  {
   "cell_type": "code",
   "execution_count": 2,
   "id": "5ba91737",
   "metadata": {},
   "outputs": [
    {
     "data": {
      "text/plain": [
       "[0, 1, 2, 3, 4, 5, 6, 7, 8, 9, 10, 11, 12, 13, 14]"
      ]
     },
     "execution_count": 2,
     "metadata": {},
     "output_type": "execute_result"
    }
   ],
   "source": [
    "school_id = [0, 1, 2, 3, 4, 5, 6, 7, 8, 9, 10, 11, 12, 13, 14]\n",
    "school_id"
   ]
  },
  {
   "cell_type": "code",
   "execution_count": 3,
   "id": "53f0d8bc",
   "metadata": {},
   "outputs": [
    {
     "data": {
      "text/plain": [
       "['Huang',\n",
       " 'Fig',\n",
       " 'Shel',\n",
       " 'Hern',\n",
       " 'Griff',\n",
       " 'Wilson',\n",
       " 'Cab',\n",
       " 'Vailey',\n",
       " 'Holden',\n",
       " 'Pena',\n",
       " 'Wright',\n",
       " 'Rod',\n",
       " 'John',\n",
       " 'Ford',\n",
       " 'Thomas']"
      ]
     },
     "execution_count": 3,
     "metadata": {},
     "output_type": "execute_result"
    }
   ],
   "source": [
    "school_name = [\"Huang\", \"Fig\", \"Shel\", \"Hern\", \"Griff\", \"Wilson\", \"Cab\", \"Vailey\", \n",
    "               \"Holden\", \"Pena\", \"Wright\", \"Rod\", \"John\", \"Ford\", \"Thomas\"]\n",
    "school_name"
   ]
  },
  {
   "cell_type": "code",
   "execution_count": 4,
   "id": "1dd9949d",
   "metadata": {},
   "outputs": [
    {
     "data": {
      "text/plain": [
       "['Dis',\n",
       " 'Dis',\n",
       " 'Char',\n",
       " 'Dis',\n",
       " 'Char',\n",
       " 'Char',\n",
       " 'Char',\n",
       " 'Dis',\n",
       " 'Char',\n",
       " 'Char',\n",
       " 'Char',\n",
       " 'Dis',\n",
       " 'Dis',\n",
       " 'Dis',\n",
       " 'Char']"
      ]
     },
     "execution_count": 4,
     "metadata": {},
     "output_type": "execute_result"
    }
   ],
   "source": [
    "school_type = [ \"Dis\", \"Dis\", \"Char\", \"Dis\", \"Char\",\"Char\", \n",
    "               \"Char\", \"Dis\", \"Char\", \"Char\", \"Char\", \"Dis\", \"Dis\", \"Dis\", \"Char\"]\n",
    "school_type"
   ]
  },
  {
   "cell_type": "code",
   "execution_count": 10,
   "id": "b4ef2f50",
   "metadata": {},
   "outputs": [
    {
     "data": {
      "text/html": [
       "<div>\n",
       "<style scoped>\n",
       "    .dataframe tbody tr th:only-of-type {\n",
       "        vertical-align: middle;\n",
       "    }\n",
       "\n",
       "    .dataframe tbody tr th {\n",
       "        vertical-align: top;\n",
       "    }\n",
       "\n",
       "    .dataframe thead th {\n",
       "        text-align: right;\n",
       "    }\n",
       "</style>\n",
       "<table border=\"1\" class=\"dataframe\">\n",
       "  <thead>\n",
       "    <tr style=\"text-align: right;\">\n",
       "      <th></th>\n",
       "      <th>ID</th>\n",
       "      <th>Name</th>\n",
       "      <th>Type</th>\n",
       "    </tr>\n",
       "  </thead>\n",
       "  <tbody>\n",
       "    <tr>\n",
       "      <th>0</th>\n",
       "      <td>0</td>\n",
       "      <td>Huang</td>\n",
       "      <td>Dis</td>\n",
       "    </tr>\n",
       "    <tr>\n",
       "      <th>1</th>\n",
       "      <td>1</td>\n",
       "      <td>Fig</td>\n",
       "      <td>Dis</td>\n",
       "    </tr>\n",
       "    <tr>\n",
       "      <th>2</th>\n",
       "      <td>2</td>\n",
       "      <td>Shel</td>\n",
       "      <td>Char</td>\n",
       "    </tr>\n",
       "    <tr>\n",
       "      <th>3</th>\n",
       "      <td>3</td>\n",
       "      <td>Hern</td>\n",
       "      <td>Dis</td>\n",
       "    </tr>\n",
       "    <tr>\n",
       "      <th>4</th>\n",
       "      <td>4</td>\n",
       "      <td>Griff</td>\n",
       "      <td>Char</td>\n",
       "    </tr>\n",
       "    <tr>\n",
       "      <th>5</th>\n",
       "      <td>5</td>\n",
       "      <td>Wilson</td>\n",
       "      <td>Char</td>\n",
       "    </tr>\n",
       "    <tr>\n",
       "      <th>6</th>\n",
       "      <td>6</td>\n",
       "      <td>Cab</td>\n",
       "      <td>Char</td>\n",
       "    </tr>\n",
       "    <tr>\n",
       "      <th>7</th>\n",
       "      <td>7</td>\n",
       "      <td>Vailey</td>\n",
       "      <td>Dis</td>\n",
       "    </tr>\n",
       "    <tr>\n",
       "      <th>8</th>\n",
       "      <td>8</td>\n",
       "      <td>Holden</td>\n",
       "      <td>Char</td>\n",
       "    </tr>\n",
       "    <tr>\n",
       "      <th>9</th>\n",
       "      <td>9</td>\n",
       "      <td>Pena</td>\n",
       "      <td>Char</td>\n",
       "    </tr>\n",
       "    <tr>\n",
       "      <th>10</th>\n",
       "      <td>10</td>\n",
       "      <td>Wright</td>\n",
       "      <td>Char</td>\n",
       "    </tr>\n",
       "    <tr>\n",
       "      <th>11</th>\n",
       "      <td>11</td>\n",
       "      <td>Rod</td>\n",
       "      <td>Dis</td>\n",
       "    </tr>\n",
       "    <tr>\n",
       "      <th>12</th>\n",
       "      <td>12</td>\n",
       "      <td>John</td>\n",
       "      <td>Dis</td>\n",
       "    </tr>\n",
       "    <tr>\n",
       "      <th>13</th>\n",
       "      <td>13</td>\n",
       "      <td>Ford</td>\n",
       "      <td>Dis</td>\n",
       "    </tr>\n",
       "    <tr>\n",
       "      <th>14</th>\n",
       "      <td>14</td>\n",
       "      <td>Thomas</td>\n",
       "      <td>Char</td>\n",
       "    </tr>\n",
       "  </tbody>\n",
       "</table>\n",
       "</div>"
      ],
      "text/plain": [
       "    ID    Name  Type\n",
       "0    0   Huang   Dis\n",
       "1    1     Fig   Dis\n",
       "2    2    Shel  Char\n",
       "3    3    Hern   Dis\n",
       "4    4   Griff  Char\n",
       "5    5  Wilson  Char\n",
       "6    6     Cab  Char\n",
       "7    7  Vailey   Dis\n",
       "8    8  Holden  Char\n",
       "9    9    Pena  Char\n",
       "10  10  Wright  Char\n",
       "11  11     Rod   Dis\n",
       "12  12    John   Dis\n",
       "13  13    Ford   Dis\n",
       "14  14  Thomas  Char"
      ]
     },
     "execution_count": 10,
     "metadata": {},
     "output_type": "execute_result"
    }
   ],
   "source": [
    "school_dict = {\"ID\" : school_id, \"Name\" : school_name, \"Type\" : school_type}\n",
    "school_df = pd.DataFrame(school_dict)\n",
    "school_df\n",
    "\n",
    "\n"
   ]
  },
  {
   "cell_type": "code",
   "execution_count": null,
   "id": "f6465765",
   "metadata": {},
   "outputs": [],
   "source": []
  }
 ],
 "metadata": {
  "kernelspec": {
   "display_name": "PythonData",
   "language": "python",
   "name": "pythondata"
  },
  "language_info": {
   "codemirror_mode": {
    "name": "ipython",
    "version": 3
   },
   "file_extension": ".py",
   "mimetype": "text/x-python",
   "name": "python",
   "nbconvert_exporter": "python",
   "pygments_lexer": "ipython3",
   "version": "3.7.13"
  }
 },
 "nbformat": 4,
 "nbformat_minor": 5
}
